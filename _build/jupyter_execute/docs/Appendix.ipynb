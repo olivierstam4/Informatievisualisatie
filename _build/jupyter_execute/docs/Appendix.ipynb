{
 "cells": [
  {
   "attachments": {},
   "cell_type": "markdown",
   "metadata": {},
   "source": [
    "# Generative AI Usage\n",
    "1. ChatGPT with GPT 3.5\n",
    "2. ChatGPT with GPT 3.5\n",
    "\n",
    "# Reasons of Usage\n",
    "1. Having trouble creating a world map with data\n",
    "2. Animating figure quicker\n",
    "# What part?\n",
    "1. Fig_basic\n",
    "2. Fig_basic\n",
    "# Which promts were used?\n",
    "1. How do I make a map with data in plotly using the attribute 'Country' for the countries and 'NATIONAL-Basic' as data.\n",
    "2. How do I make my timeline go faster in my choropleth fig?"
   ]
  },
  {
   "attachments": {},
   "cell_type": "markdown",
   "metadata": {},
   "source": []
  }
 ],
 "metadata": {
  "language_info": {
   "codemirror_mode": {
    "name": "ipython",
    "version": 3
   },
   "file_extension": ".py",
   "mimetype": "text/x-python",
   "name": "python",
   "nbconvert_exporter": "python",
   "pygments_lexer": "ipython3",
   "version": "3.10.10"
  }
 },
 "nbformat": 4,
 "nbformat_minor": 2
}