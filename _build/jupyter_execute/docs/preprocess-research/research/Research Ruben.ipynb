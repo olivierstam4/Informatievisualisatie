{
 "cells": [
  {
   "cell_type": "code",
   "execution_count": 1,
   "metadata": {
    "ExecuteTime": {
     "end_time": "2023-06-20T10:48:25.552565596Z",
     "start_time": "2023-06-20T10:48:24.790229566Z"
    },
    "collapsed": true
   },
   "outputs": [],
   "source": [
    "import pandas as pd\n",
    "import plotly.express as px\n",
    "import plotly.graph_objs as go"
   ]
  },
  {
   "cell_type": "code",
   "execution_count": 2,
   "metadata": {
    "ExecuteTime": {
     "end_time": "2023-06-20T10:48:26.552731855Z",
     "start_time": "2023-06-20T10:48:25.556430544Z"
    },
    "collapsed": false
   },
   "outputs": [
    {
     "ename": "FileNotFoundError",
     "evalue": "[Errno 2] No such file or directory: 'pivoted_data_GREEN_GROWTH.csv'",
     "output_type": "error",
     "traceback": [
      "\u001b[0;31m---------------------------------------------------------------------------\u001b[0m",
      "\u001b[0;31mFileNotFoundError\u001b[0m                         Traceback (most recent call last)",
      "Cell \u001b[0;32mIn[2], line 1\u001b[0m\n\u001b[0;32m----> 1\u001b[0m df_green \u001b[38;5;241m=\u001b[39m \u001b[43mpd\u001b[49m\u001b[38;5;241;43m.\u001b[39;49m\u001b[43mread_csv\u001b[49m\u001b[43m(\u001b[49m\u001b[38;5;124;43m'\u001b[39;49m\u001b[38;5;124;43mpivoted_data_GREEN_GROWTH.csv\u001b[39;49m\u001b[38;5;124;43m'\u001b[39;49m\u001b[43m)\u001b[49m\n\u001b[1;32m      2\u001b[0m df_inno \u001b[38;5;241m=\u001b[39m pd\u001b[38;5;241m.\u001b[39mread_csv(\u001b[38;5;124m'\u001b[39m\u001b[38;5;124mpivoted_data_inno.csv\u001b[39m\u001b[38;5;124m'\u001b[39m)\n\u001b[1;32m      4\u001b[0m first_column_green \u001b[38;5;241m=\u001b[39m df_green\u001b[38;5;241m.\u001b[39mpop(\u001b[38;5;124m'\u001b[39m\u001b[38;5;124mCOU\u001b[39m\u001b[38;5;124m'\u001b[39m)\n",
      "File \u001b[0;32m~/.local/lib/python3.10/site-packages/pandas/io/parsers/readers.py:912\u001b[0m, in \u001b[0;36mread_csv\u001b[0;34m(filepath_or_buffer, sep, delimiter, header, names, index_col, usecols, dtype, engine, converters, true_values, false_values, skipinitialspace, skiprows, skipfooter, nrows, na_values, keep_default_na, na_filter, verbose, skip_blank_lines, parse_dates, infer_datetime_format, keep_date_col, date_parser, date_format, dayfirst, cache_dates, iterator, chunksize, compression, thousands, decimal, lineterminator, quotechar, quoting, doublequote, escapechar, comment, encoding, encoding_errors, dialect, on_bad_lines, delim_whitespace, low_memory, memory_map, float_precision, storage_options, dtype_backend)\u001b[0m\n\u001b[1;32m    899\u001b[0m kwds_defaults \u001b[38;5;241m=\u001b[39m _refine_defaults_read(\n\u001b[1;32m    900\u001b[0m     dialect,\n\u001b[1;32m    901\u001b[0m     delimiter,\n\u001b[0;32m   (...)\u001b[0m\n\u001b[1;32m    908\u001b[0m     dtype_backend\u001b[38;5;241m=\u001b[39mdtype_backend,\n\u001b[1;32m    909\u001b[0m )\n\u001b[1;32m    910\u001b[0m kwds\u001b[38;5;241m.\u001b[39mupdate(kwds_defaults)\n\u001b[0;32m--> 912\u001b[0m \u001b[38;5;28;01mreturn\u001b[39;00m \u001b[43m_read\u001b[49m\u001b[43m(\u001b[49m\u001b[43mfilepath_or_buffer\u001b[49m\u001b[43m,\u001b[49m\u001b[43m \u001b[49m\u001b[43mkwds\u001b[49m\u001b[43m)\u001b[49m\n",
      "File \u001b[0;32m~/.local/lib/python3.10/site-packages/pandas/io/parsers/readers.py:577\u001b[0m, in \u001b[0;36m_read\u001b[0;34m(filepath_or_buffer, kwds)\u001b[0m\n\u001b[1;32m    574\u001b[0m _validate_names(kwds\u001b[38;5;241m.\u001b[39mget(\u001b[38;5;124m\"\u001b[39m\u001b[38;5;124mnames\u001b[39m\u001b[38;5;124m\"\u001b[39m, \u001b[38;5;28;01mNone\u001b[39;00m))\n\u001b[1;32m    576\u001b[0m \u001b[38;5;66;03m# Create the parser.\u001b[39;00m\n\u001b[0;32m--> 577\u001b[0m parser \u001b[38;5;241m=\u001b[39m \u001b[43mTextFileReader\u001b[49m\u001b[43m(\u001b[49m\u001b[43mfilepath_or_buffer\u001b[49m\u001b[43m,\u001b[49m\u001b[43m \u001b[49m\u001b[38;5;241;43m*\u001b[39;49m\u001b[38;5;241;43m*\u001b[39;49m\u001b[43mkwds\u001b[49m\u001b[43m)\u001b[49m\n\u001b[1;32m    579\u001b[0m \u001b[38;5;28;01mif\u001b[39;00m chunksize \u001b[38;5;129;01mor\u001b[39;00m iterator:\n\u001b[1;32m    580\u001b[0m     \u001b[38;5;28;01mreturn\u001b[39;00m parser\n",
      "File \u001b[0;32m~/.local/lib/python3.10/site-packages/pandas/io/parsers/readers.py:1407\u001b[0m, in \u001b[0;36mTextFileReader.__init__\u001b[0;34m(self, f, engine, **kwds)\u001b[0m\n\u001b[1;32m   1404\u001b[0m     \u001b[38;5;28mself\u001b[39m\u001b[38;5;241m.\u001b[39moptions[\u001b[38;5;124m\"\u001b[39m\u001b[38;5;124mhas_index_names\u001b[39m\u001b[38;5;124m\"\u001b[39m] \u001b[38;5;241m=\u001b[39m kwds[\u001b[38;5;124m\"\u001b[39m\u001b[38;5;124mhas_index_names\u001b[39m\u001b[38;5;124m\"\u001b[39m]\n\u001b[1;32m   1406\u001b[0m \u001b[38;5;28mself\u001b[39m\u001b[38;5;241m.\u001b[39mhandles: IOHandles \u001b[38;5;241m|\u001b[39m \u001b[38;5;28;01mNone\u001b[39;00m \u001b[38;5;241m=\u001b[39m \u001b[38;5;28;01mNone\u001b[39;00m\n\u001b[0;32m-> 1407\u001b[0m \u001b[38;5;28mself\u001b[39m\u001b[38;5;241m.\u001b[39m_engine \u001b[38;5;241m=\u001b[39m \u001b[38;5;28;43mself\u001b[39;49m\u001b[38;5;241;43m.\u001b[39;49m\u001b[43m_make_engine\u001b[49m\u001b[43m(\u001b[49m\u001b[43mf\u001b[49m\u001b[43m,\u001b[49m\u001b[43m \u001b[49m\u001b[38;5;28;43mself\u001b[39;49m\u001b[38;5;241;43m.\u001b[39;49m\u001b[43mengine\u001b[49m\u001b[43m)\u001b[49m\n",
      "File \u001b[0;32m~/.local/lib/python3.10/site-packages/pandas/io/parsers/readers.py:1661\u001b[0m, in \u001b[0;36mTextFileReader._make_engine\u001b[0;34m(self, f, engine)\u001b[0m\n\u001b[1;32m   1659\u001b[0m     \u001b[38;5;28;01mif\u001b[39;00m \u001b[38;5;124m\"\u001b[39m\u001b[38;5;124mb\u001b[39m\u001b[38;5;124m\"\u001b[39m \u001b[38;5;129;01mnot\u001b[39;00m \u001b[38;5;129;01min\u001b[39;00m mode:\n\u001b[1;32m   1660\u001b[0m         mode \u001b[38;5;241m+\u001b[39m\u001b[38;5;241m=\u001b[39m \u001b[38;5;124m\"\u001b[39m\u001b[38;5;124mb\u001b[39m\u001b[38;5;124m\"\u001b[39m\n\u001b[0;32m-> 1661\u001b[0m \u001b[38;5;28mself\u001b[39m\u001b[38;5;241m.\u001b[39mhandles \u001b[38;5;241m=\u001b[39m \u001b[43mget_handle\u001b[49m\u001b[43m(\u001b[49m\n\u001b[1;32m   1662\u001b[0m \u001b[43m    \u001b[49m\u001b[43mf\u001b[49m\u001b[43m,\u001b[49m\n\u001b[1;32m   1663\u001b[0m \u001b[43m    \u001b[49m\u001b[43mmode\u001b[49m\u001b[43m,\u001b[49m\n\u001b[1;32m   1664\u001b[0m \u001b[43m    \u001b[49m\u001b[43mencoding\u001b[49m\u001b[38;5;241;43m=\u001b[39;49m\u001b[38;5;28;43mself\u001b[39;49m\u001b[38;5;241;43m.\u001b[39;49m\u001b[43moptions\u001b[49m\u001b[38;5;241;43m.\u001b[39;49m\u001b[43mget\u001b[49m\u001b[43m(\u001b[49m\u001b[38;5;124;43m\"\u001b[39;49m\u001b[38;5;124;43mencoding\u001b[39;49m\u001b[38;5;124;43m\"\u001b[39;49m\u001b[43m,\u001b[49m\u001b[43m \u001b[49m\u001b[38;5;28;43;01mNone\u001b[39;49;00m\u001b[43m)\u001b[49m\u001b[43m,\u001b[49m\n\u001b[1;32m   1665\u001b[0m \u001b[43m    \u001b[49m\u001b[43mcompression\u001b[49m\u001b[38;5;241;43m=\u001b[39;49m\u001b[38;5;28;43mself\u001b[39;49m\u001b[38;5;241;43m.\u001b[39;49m\u001b[43moptions\u001b[49m\u001b[38;5;241;43m.\u001b[39;49m\u001b[43mget\u001b[49m\u001b[43m(\u001b[49m\u001b[38;5;124;43m\"\u001b[39;49m\u001b[38;5;124;43mcompression\u001b[39;49m\u001b[38;5;124;43m\"\u001b[39;49m\u001b[43m,\u001b[49m\u001b[43m \u001b[49m\u001b[38;5;28;43;01mNone\u001b[39;49;00m\u001b[43m)\u001b[49m\u001b[43m,\u001b[49m\n\u001b[1;32m   1666\u001b[0m \u001b[43m    \u001b[49m\u001b[43mmemory_map\u001b[49m\u001b[38;5;241;43m=\u001b[39;49m\u001b[38;5;28;43mself\u001b[39;49m\u001b[38;5;241;43m.\u001b[39;49m\u001b[43moptions\u001b[49m\u001b[38;5;241;43m.\u001b[39;49m\u001b[43mget\u001b[49m\u001b[43m(\u001b[49m\u001b[38;5;124;43m\"\u001b[39;49m\u001b[38;5;124;43mmemory_map\u001b[39;49m\u001b[38;5;124;43m\"\u001b[39;49m\u001b[43m,\u001b[49m\u001b[43m \u001b[49m\u001b[38;5;28;43;01mFalse\u001b[39;49;00m\u001b[43m)\u001b[49m\u001b[43m,\u001b[49m\n\u001b[1;32m   1667\u001b[0m \u001b[43m    \u001b[49m\u001b[43mis_text\u001b[49m\u001b[38;5;241;43m=\u001b[39;49m\u001b[43mis_text\u001b[49m\u001b[43m,\u001b[49m\n\u001b[1;32m   1668\u001b[0m \u001b[43m    \u001b[49m\u001b[43merrors\u001b[49m\u001b[38;5;241;43m=\u001b[39;49m\u001b[38;5;28;43mself\u001b[39;49m\u001b[38;5;241;43m.\u001b[39;49m\u001b[43moptions\u001b[49m\u001b[38;5;241;43m.\u001b[39;49m\u001b[43mget\u001b[49m\u001b[43m(\u001b[49m\u001b[38;5;124;43m\"\u001b[39;49m\u001b[38;5;124;43mencoding_errors\u001b[39;49m\u001b[38;5;124;43m\"\u001b[39;49m\u001b[43m,\u001b[49m\u001b[43m \u001b[49m\u001b[38;5;124;43m\"\u001b[39;49m\u001b[38;5;124;43mstrict\u001b[39;49m\u001b[38;5;124;43m\"\u001b[39;49m\u001b[43m)\u001b[49m\u001b[43m,\u001b[49m\n\u001b[1;32m   1669\u001b[0m \u001b[43m    \u001b[49m\u001b[43mstorage_options\u001b[49m\u001b[38;5;241;43m=\u001b[39;49m\u001b[38;5;28;43mself\u001b[39;49m\u001b[38;5;241;43m.\u001b[39;49m\u001b[43moptions\u001b[49m\u001b[38;5;241;43m.\u001b[39;49m\u001b[43mget\u001b[49m\u001b[43m(\u001b[49m\u001b[38;5;124;43m\"\u001b[39;49m\u001b[38;5;124;43mstorage_options\u001b[39;49m\u001b[38;5;124;43m\"\u001b[39;49m\u001b[43m,\u001b[49m\u001b[43m \u001b[49m\u001b[38;5;28;43;01mNone\u001b[39;49;00m\u001b[43m)\u001b[49m\u001b[43m,\u001b[49m\n\u001b[1;32m   1670\u001b[0m \u001b[43m\u001b[49m\u001b[43m)\u001b[49m\n\u001b[1;32m   1671\u001b[0m \u001b[38;5;28;01massert\u001b[39;00m \u001b[38;5;28mself\u001b[39m\u001b[38;5;241m.\u001b[39mhandles \u001b[38;5;129;01mis\u001b[39;00m \u001b[38;5;129;01mnot\u001b[39;00m \u001b[38;5;28;01mNone\u001b[39;00m\n\u001b[1;32m   1672\u001b[0m f \u001b[38;5;241m=\u001b[39m \u001b[38;5;28mself\u001b[39m\u001b[38;5;241m.\u001b[39mhandles\u001b[38;5;241m.\u001b[39mhandle\n",
      "File \u001b[0;32m~/.local/lib/python3.10/site-packages/pandas/io/common.py:859\u001b[0m, in \u001b[0;36mget_handle\u001b[0;34m(path_or_buf, mode, encoding, compression, memory_map, is_text, errors, storage_options)\u001b[0m\n\u001b[1;32m    854\u001b[0m \u001b[38;5;28;01melif\u001b[39;00m \u001b[38;5;28misinstance\u001b[39m(handle, \u001b[38;5;28mstr\u001b[39m):\n\u001b[1;32m    855\u001b[0m     \u001b[38;5;66;03m# Check whether the filename is to be opened in binary mode.\u001b[39;00m\n\u001b[1;32m    856\u001b[0m     \u001b[38;5;66;03m# Binary mode does not support 'encoding' and 'newline'.\u001b[39;00m\n\u001b[1;32m    857\u001b[0m     \u001b[38;5;28;01mif\u001b[39;00m ioargs\u001b[38;5;241m.\u001b[39mencoding \u001b[38;5;129;01mand\u001b[39;00m \u001b[38;5;124m\"\u001b[39m\u001b[38;5;124mb\u001b[39m\u001b[38;5;124m\"\u001b[39m \u001b[38;5;129;01mnot\u001b[39;00m \u001b[38;5;129;01min\u001b[39;00m ioargs\u001b[38;5;241m.\u001b[39mmode:\n\u001b[1;32m    858\u001b[0m         \u001b[38;5;66;03m# Encoding\u001b[39;00m\n\u001b[0;32m--> 859\u001b[0m         handle \u001b[38;5;241m=\u001b[39m \u001b[38;5;28;43mopen\u001b[39;49m\u001b[43m(\u001b[49m\n\u001b[1;32m    860\u001b[0m \u001b[43m            \u001b[49m\u001b[43mhandle\u001b[49m\u001b[43m,\u001b[49m\n\u001b[1;32m    861\u001b[0m \u001b[43m            \u001b[49m\u001b[43mioargs\u001b[49m\u001b[38;5;241;43m.\u001b[39;49m\u001b[43mmode\u001b[49m\u001b[43m,\u001b[49m\n\u001b[1;32m    862\u001b[0m \u001b[43m            \u001b[49m\u001b[43mencoding\u001b[49m\u001b[38;5;241;43m=\u001b[39;49m\u001b[43mioargs\u001b[49m\u001b[38;5;241;43m.\u001b[39;49m\u001b[43mencoding\u001b[49m\u001b[43m,\u001b[49m\n\u001b[1;32m    863\u001b[0m \u001b[43m            \u001b[49m\u001b[43merrors\u001b[49m\u001b[38;5;241;43m=\u001b[39;49m\u001b[43merrors\u001b[49m\u001b[43m,\u001b[49m\n\u001b[1;32m    864\u001b[0m \u001b[43m            \u001b[49m\u001b[43mnewline\u001b[49m\u001b[38;5;241;43m=\u001b[39;49m\u001b[38;5;124;43m\"\u001b[39;49m\u001b[38;5;124;43m\"\u001b[39;49m\u001b[43m,\u001b[49m\n\u001b[1;32m    865\u001b[0m \u001b[43m        \u001b[49m\u001b[43m)\u001b[49m\n\u001b[1;32m    866\u001b[0m     \u001b[38;5;28;01melse\u001b[39;00m:\n\u001b[1;32m    867\u001b[0m         \u001b[38;5;66;03m# Binary mode\u001b[39;00m\n\u001b[1;32m    868\u001b[0m         handle \u001b[38;5;241m=\u001b[39m \u001b[38;5;28mopen\u001b[39m(handle, ioargs\u001b[38;5;241m.\u001b[39mmode)\n",
      "\u001b[0;31mFileNotFoundError\u001b[0m: [Errno 2] No such file or directory: 'pivoted_data_GREEN_GROWTH.csv'"
     ]
    }
   ],
   "source": [
    "df_green = pd.read_csv('pivoted_data_GREEN_GROWTH.csv')\n",
    "df_inno = pd.read_csv('pivoted_data_inno.csv')\n",
    "\n",
    "first_column_green = df_green.pop('COU')\n",
    "df_green.insert(0, 'ISO3', first_column_green)\n",
    "\n",
    "df_green.to_csv('iso_green.csv')\n",
    "\n",
    "first_column_inno = df_inno.pop('REG_ID')\n",
    "df_inno.insert(0, 'ISO3', first_column_inno)\n",
    "\n",
    "# df_inno.to_csv('iso_inno.csv')\n",
    "\n",
    "inno_columns = list(df_inno.columns.values)\n",
    "green_list = list(df_green.columns.values)\n",
    "\n",
    "print(inno_columns)\n",
    "\n",
    "df_combined = df_green.merge(df_inno, on='ISO3')\n",
    "\n",
    "all_columns = list(df_combined.columns.values)\n",
    "\n",
    "# print(df_green.columns.values)\n",
    "\n",
    "corr_list = []\n",
    "\n",
    "for item in green_list[3:]:\n",
    "    corr = df_combined['    Labour Force with Elementary Education (ISCED 0-2)'].corr(df_green[item])\n",
    "    if corr >= 0.4 or corr <= -0.4:\n",
    "        corr_list.append([corr, item])\n",
    "\n",
    "print(corr_list)\n",
    "# Total employment, all activities and Demand-based CO2 emissions"
   ]
  },
  {
   "cell_type": "code",
   "execution_count": 3,
   "metadata": {
    "ExecuteTime": {
     "end_time": "2023-06-20T10:48:26.661693780Z",
     "start_time": "2023-06-20T10:48:26.487618026Z"
    },
    "collapsed": false
   },
   "outputs": [
    {
     "name": "stdout",
     "output_type": "stream",
     "text": [
      "['ISO3', 'Country', 'Year', 'Adjustment for pollution abatement', 'Artificial surfaces, % total ', 'Bare land, % total', 'Biomass, % of DMC', 'Built up area per capita', 'Built up area, % total land', 'CO2 emissions from air transport per capita', 'CO2 emissions from air transport per unit of GDP', 'Coal support, % total fossil fuel support', 'Contribution of natural capital', 'Conversion from cropland to artificial surfaces, % since 1992', 'Conversion from natural and semi-natural land to artificial surfaces, % since 1992', 'Conversion from natural and semi-natural land to cropland, % since 1992', 'Conversion of not-water to permanent water surface, % permanent water, since 1984', 'Conversion of permanent to seasonal water surface, % permanent water, since 1984', 'Conversion of permanent water to not-water surface, % permanent water, since 1984', 'Conversion of seasonal to permanent water surface, % permanent water, since 1984', 'Cropland, % total', 'Demand-based CO2 emissions', 'Demand-based CO2 emissions, index 2000=100', 'Demand-based CO2 intensity, energy-related CO2 per capita', 'Demand-based CO2 productivity, GDP per unit of energy-related CO2 emissions', 'Demand-based CO2 productivity, disposable income per unit of energy-related CO2 emissions', 'Development of environment-related technologies, % all technologies', 'Development of environment-related technologies, % inventions worldwide', 'Development of environment-related technologies, inventions per capita', 'Diesel end-user price, USD per litre', 'Diesel tax, USD per litre', 'Electricity support, % total fossil fuel support', 'Emissions priced above EUR 120 per tonne of CO2, % total emissions', 'Emissions priced above EUR 30 per tonne of CO2, % total emissions', 'Emissions priced above EUR 60 per tonne of CO2, % total emissions', 'Energy consumption in agriculture, % total energy consumption', 'Energy consumption in industry, % total energy consumption', 'Energy consumption in other sectors, % total energy consumption', 'Energy consumption in services, % total energy consumption', 'Energy consumption in transport, % total energy consumption', 'Energy intensity, TES per capita', 'Energy productivity,  GDP per unit of TES', 'Energy public RD&D budget, % GDP', 'Energy related tax revenue, % total environmental tax revenue', 'Environmentally adjusted multifactor productivity growth', 'Environmentally related ODA, % total allocable ODA', 'Environmentally related R&D expenditure, % GDP', 'Environmentally related government R&D budget, % total government R&D', 'Environmentally related taxes, % GDP', 'Environmentally related taxes, % total tax revenue', 'Farmland Birds Index, 2000=100', 'Forest Birds Index, 2000=100', 'Forest resource stocks', 'Forests with long-term management plans, % total forest area', 'Fossil fuel consumer support, % energy related tax revenue', 'Fossil fuel consumer support, % total fossil fuel support', 'Fossil fuel consumer support, % total tax revenue', 'Fossil fuel general services support, % total fossil fuel support', 'Fossil fuel producer support, % total fossil fuel support', 'Fossil fuel public RD&D budget (excluding CCS), % total energy public RD&D', 'GDP deflator', 'Gain of natural and semi-natural vegetated land, % since 1992', 'Gain of natural and semi-natural vegetated land, % since 2004', 'Gas support, % total fossil fuel support', 'Industry electricity price, USD per kWh', 'Intact forest landscape loss, % since 2000', 'Intact forest landscape, km2', 'Intensity of use of forest resources', 'Irrigated land, % agricultural land', 'Labour tax revenue, % GDP', 'Labour tax revenue, % total tax revenue', 'Life expectancy at birth', 'Loss of natural and semi-natural vegetated land, % since 1992', 'Loss of natural and semi-natural vegetated land, % since 2004', 'Marine protected area, % total exclusive economic zone', 'Mean feed-in tariff for solar PV electricity generation', 'Mean feed-in tariff for wind electricity generation', 'Mean population exposure to PM2.5', 'Metals, % of DMC', 'Mortality from exposure to ambient PM2.5', 'Mortality from exposure to ambient ozone', 'Mortality from exposure to lead', 'Mortality from exposure to residential radon', 'Municipal waste disposed to landfills, % treated waste', 'Municipal waste generated, kg per capita', 'Municipal waste incinerated, % treated waste', 'Municipal waste recycled or composted, % treated waste ', 'National expenditure on environmental protection, % GDP', 'Natural and semi-natural vegetated land, % total', 'Naturally regenerating forests, % total forest area', 'Net ODA provided, % GNI', 'Net migration', 'New built up area, % since 1990', 'New built up area, % since 2000', 'Nitrogen balance per hectare', 'Nominal exchange rate', 'Non-energy material productivity, GDP per unit of DMC', 'Non-metallic minerals, % of DMC', 'ODA - all sectors - biodiversity, % total allocable ODA', 'ODA - all sectors - climate change adaptation, % total allocable ODA', 'ODA - all sectors - climate change mitigation, % total allocable ODA', 'ODA - all sectors - desertification, % total allocable ODA', 'ODA - environment sector, % total allocable ODA', 'ODA - renewable energy sector, % total allocable ODA', 'ODA - water supply and sanitation sector, % total allocable ODA', 'Percentage of population exposed to more than 10 micrograms/m3', 'Percentage of population exposed to more than 35 micrograms/m3', 'Percentage of population exposure to hot days', 'Percentage of population exposure to icing days', 'Percentage of population exposure to river flooding', 'Percentage of population exposure to wildfires', 'Permanent surface water, % total surface', 'Petrol end-user price, USD per litre', 'Petrol tax, USD per litre', 'Petroleum support, % total fossil fuel support', 'Phosphorus balance per hectare', 'Population', 'Population connected to public sewerage, % total population', 'Population connected to sewerage with primary treatment, % total population', 'Population connected to sewerage with secondary treatment, % total population', 'Population connected to sewerage with tertiary treatment, % total population', 'Population density, inhabitants per km2', 'Population with access to improved drinking water sources, % total population ', 'Population with access to improved sanitation, % total population', 'Population, ages 0-14, % total', 'Population, ages 15-64, % total', 'Population, ages 65 and above, % total', 'Production-based CO2 emissions', 'Production-based CO2 emissions, index 2000=100', 'Production-based CO2 intensity, energy-related CO2 per capita', 'Production-based CO2 productivity, GDP per unit of energy-related CO2 emissions', 'Purchasing power parity', 'Real GDP', 'Real GDP per capita', 'Real GDP, Index 2000=100', 'Relative advantage in environment-related technology', 'Renewable electricity, % total electricity generation', 'Renewable energy public RD&D budget, % total energy public RD&D', 'Renewable energy supply (excluding solid biofuels), % total energy supply', 'Renewable energy supply, % total energy supply', 'Residential electricity price, USD per kWh', 'Road transport-related tax revenue, % total environmental tax revenue', 'Sales of pesticides per unit of agricultural land', 'Seasonal surface water, % total surface ', 'Terrestrial protected area, % land area', 'Threatened bird species, % total known species', 'Threatened mammal species, % total known species', 'Threatened vascular plant species, % total known species', 'Total energy supply', 'Total energy supply, index 2000=100', 'Total fertility rate, children per woman', 'Total fossil fuel support, % of total tax revenue', 'Total freshwater abstraction per capita', 'Total renewable freshwater per capita', 'Value added in agriculture, % of total value added', 'Value added in industry, % of total value added', 'Value added in services, % of total value added', 'Water stress, total freshwater abstraction as % total available renewable resources', 'Water stress, total freshwater abstraction as % total internal renewable resources', 'Water, % total', 'Welfare costs of premature deaths from exposure to ambient ozone, GDP equivalent', 'Welfare costs of premature deaths from exposure to lead, GDP equivalent', 'Welfare costs of premature mortalities from exposure to ambient PM2.5, GDP equivalent', 'Welfare costs of premature mortalities from exposure to residential radon, GDP equivalent', 'Women, % total population']\n"
     ]
    }
   ],
   "source": [
    "fig = px.line(df_combined, x='Year_x', y='Demand-based CO2 emissions', color='ISO3', title='Thing')\n",
    "\n",
    "fig.show()"
   ]
  },
  {
   "cell_type": "code",
   "execution_count": 4,
   "metadata": {
    "ExecuteTime": {
     "end_time": "2023-06-20T10:48:26.845368516Z",
     "start_time": "2023-06-20T10:48:26.588102749Z"
    },
    "collapsed": false
   },
   "outputs": [
    {
     "name": "stdout",
     "output_type": "stream",
     "text": [
      "['ISO3', 'Country', 'Time', 'Passenger car registrations sa, Index', 'Permits issued for dwellings sa, Index', 'Production in total manufacturing sa, Index', 'Production of electricity, gas, steam and air conditioning supply sa, index', 'Production of total construction sa, Index', 'Production of total energy sa, Index', 'Production of total industry sa, Index', 'Production of total manufactured intermediate goods sa, Index', 'Production of total manufactured investment goods sa, Index', 'Total retail trade (Volume) sa, Index', 'Work started for dwellings sa, Index']\n",
      "[]\n"
     ]
    }
   ],
   "source": [
    "fig = px.line(df_combined, x='Year_y', y='Employment in high-technology manufacturing', color='ISO3', title='Thing')\n",
    "\n",
    "fig.show()"
   ]
  },
  {
   "cell_type": "code",
   "execution_count": 5,
   "metadata": {
    "ExecuteTime": {
     "end_time": "2023-06-20T10:48:27.069005669Z",
     "start_time": "2023-06-20T10:48:26.775081763Z"
    },
    "collapsed": false
   },
   "outputs": [
    {
     "name": "stdout",
     "output_type": "stream",
     "text": [
      "['COUNTRY', 'Country', 'Year', 'Airports per one hundred thousand sq. km', 'Airports per one million inhabitants', 'Density of rail lines (km per one hundred sq. km)', 'Density of road (km per one hundred sq. km)', 'Inland waterways infrastructure investment in constant USD per inhabitant', 'Inland waterways infrastructure investment per GDP', 'Rail infrastructure investment in constant USD per inhabitant', 'Rail infrastructure investment per GDP', 'Road infrastructure investment in constant USD per inhabitant', 'Road infrastructure investment per GDP', 'Share of electrified rail lines in total rail network', 'Share of high-speed rail lines in total rail network', 'Share of inland waterways infrastructure investment in total inland transport infrastructure investment', 'Share of motorways in total road network', 'Share of rail infrastructure investment in total inland transport infrastructure investment', 'Share of road infrastructure investment in total inland transport infrastructure investment', 'Share of road infrastructure maintenance in total road infrastructure spending', 'Share of urban roads in total road network', 'Total inland transport infrastructure investment in constant USD per inhabitant', 'Total inland transport infrastructure investment per GDP']\n",
      "[[0.5287306517141934, 'Water stress, total freshwater abstraction as % total available renewable resources']]\n"
     ]
    }
   ],
   "source": [
    "df_mei = pd.read_csv('pivoted_data_MEI.csv')\n",
    "\n",
    "# print(list(df_mei.columns.values))\n",
    "\n",
    "first_column_mei = df_mei.pop('LOCATION')\n",
    "df_mei.insert(0, 'ISO3', first_column_mei)\n",
    "\n",
    "# df_mei.to_csv('iso_mei.csv')\n",
    "\n",
    "df_combined2 = df_green.merge(df_mei, on='ISO3')\n",
    "\n",
    "print(list(df_green.columns.values))"
   ]
  },
  {
   "cell_type": "code",
   "execution_count": 6,
   "metadata": {
    "ExecuteTime": {
     "end_time": "2023-06-20T10:48:29.028983637Z",
     "start_time": "2023-06-20T10:48:27.054092502Z"
    },
    "collapsed": false
   },
   "outputs": [
    {
     "name": "stdout",
     "output_type": "stream",
     "text": [
      "['Country', 'ISO3', 'Year', 'Population (thousands)', '% urban', 'NATIONAL-Basic', 'NATIONAL-Limited', 'NATIONAL-Unimproved', 'NATIONAL-Surface water', 'NATIONAL-Annual rate change basic', 'RURAL-Basic', 'RURAL-Limited', 'RURAL-Unimproved', 'RURAL-Surface water', 'RURAL-Annual rate change basic', 'URBAN-Basic', 'URBAN-Limited', 'URBAN-Unimproved', 'URBAN-Surface water', 'URBAN-Annual rate change basic', 'NATIONAL-Proportion-Safely managed', 'NATIONAL-Proportion-Accessible on premises', 'NATIONAL-Proportion-Available when needed', 'NATIONAL-Proportion-Free from contamination', 'NATIONAL-Proportion-Annual rate of change in safely managed', 'NATIONAL-Proportion-Piped', 'NATIONAL-Proportion-Non-piped', 'RURAL-Proportion-Safely managed', 'RURAL-Proportion-Accessible on premises', 'RURAL-Proportion-Available when needed', 'RURAL-Proportion-Free from contamination', 'RURAL-Proportion-Annual rate of change in safely managed', 'RURAL-Proportion-Piped', 'RURAL-Proportion-Non-piped', 'URBAN-Proportion-Safely managed', 'URBAN-Proportion-Accessible on premises', 'URBAN-Proportion-Available when needed', 'URBAN-Proportion-Free from contamination', 'URBAN-Proportion-Annual rate of change in safely managed', 'URBAN-Proportion-Piped', 'URBAN-Proportion-Non-piped', 'Sl', 'SDG region', 'WHO region', 'UNICEF Programming region', 'UNICEF Reporting region']\n"
     ]
    },
    {
     "ename": "TypeError",
     "evalue": "unsupported operand type(s) for /: 'str' and 'int'",
     "output_type": "error",
     "traceback": [
      "\u001b[0;31m---------------------------------------------------------------------------\u001b[0m",
      "\u001b[0;31mTypeError\u001b[0m                                 Traceback (most recent call last)",
      "Cell \u001b[0;32mIn[6], line 15\u001b[0m\n\u001b[1;32m     12\u001b[0m corr_list \u001b[38;5;241m=\u001b[39m []\n\u001b[1;32m     14\u001b[0m \u001b[38;5;28;01mfor\u001b[39;00m item \u001b[38;5;129;01min\u001b[39;00m green_list[\u001b[38;5;241m3\u001b[39m:]:\n\u001b[0;32m---> 15\u001b[0m     corr \u001b[38;5;241m=\u001b[39m \u001b[43mdf_combined4\u001b[49m\u001b[43m[\u001b[49m\u001b[38;5;124;43m'\u001b[39;49m\u001b[38;5;124;43mRURAL-Proportion-Non-piped\u001b[39;49m\u001b[38;5;124;43m'\u001b[39;49m\u001b[43m]\u001b[49m\u001b[38;5;241;43m.\u001b[39;49m\u001b[43mcorr\u001b[49m\u001b[43m(\u001b[49m\u001b[43mdf_combined4\u001b[49m\u001b[43m[\u001b[49m\u001b[43mitem\u001b[49m\u001b[43m]\u001b[49m\u001b[43m)\u001b[49m\n\u001b[1;32m     16\u001b[0m     \u001b[38;5;28;01mif\u001b[39;00m corr \u001b[38;5;241m>\u001b[39m\u001b[38;5;241m=\u001b[39m \u001b[38;5;241m0.5\u001b[39m \u001b[38;5;129;01mor\u001b[39;00m corr \u001b[38;5;241m<\u001b[39m\u001b[38;5;241m=\u001b[39m \u001b[38;5;241m-\u001b[39m\u001b[38;5;241m0.5\u001b[39m:\n\u001b[1;32m     17\u001b[0m         corr_list\u001b[38;5;241m.\u001b[39mappend([corr, item])\n",
      "File \u001b[0;32m~/Documents/Information-Visualisation/venv/lib/python3.10/site-packages/pandas/core/series.py:2727\u001b[0m, in \u001b[0;36mSeries.corr\u001b[0;34m(self, other, method, min_periods)\u001b[0m\n\u001b[1;32m   2724\u001b[0m     \u001b[38;5;28;01mreturn\u001b[39;00m np\u001b[38;5;241m.\u001b[39mnan\n\u001b[1;32m   2726\u001b[0m \u001b[38;5;28;01mif\u001b[39;00m method \u001b[38;5;129;01min\u001b[39;00m [\u001b[38;5;124m\"\u001b[39m\u001b[38;5;124mpearson\u001b[39m\u001b[38;5;124m\"\u001b[39m, \u001b[38;5;124m\"\u001b[39m\u001b[38;5;124mspearman\u001b[39m\u001b[38;5;124m\"\u001b[39m, \u001b[38;5;124m\"\u001b[39m\u001b[38;5;124mkendall\u001b[39m\u001b[38;5;124m\"\u001b[39m] \u001b[38;5;129;01mor\u001b[39;00m \u001b[38;5;28mcallable\u001b[39m(method):\n\u001b[0;32m-> 2727\u001b[0m     \u001b[38;5;28;01mreturn\u001b[39;00m \u001b[43mnanops\u001b[49m\u001b[38;5;241;43m.\u001b[39;49m\u001b[43mnancorr\u001b[49m\u001b[43m(\u001b[49m\n\u001b[1;32m   2728\u001b[0m \u001b[43m        \u001b[49m\u001b[43mthis\u001b[49m\u001b[38;5;241;43m.\u001b[39;49m\u001b[43mvalues\u001b[49m\u001b[43m,\u001b[49m\u001b[43m \u001b[49m\u001b[43mother\u001b[49m\u001b[38;5;241;43m.\u001b[39;49m\u001b[43mvalues\u001b[49m\u001b[43m,\u001b[49m\u001b[43m \u001b[49m\u001b[43mmethod\u001b[49m\u001b[38;5;241;43m=\u001b[39;49m\u001b[43mmethod\u001b[49m\u001b[43m,\u001b[49m\u001b[43m \u001b[49m\u001b[43mmin_periods\u001b[49m\u001b[38;5;241;43m=\u001b[39;49m\u001b[43mmin_periods\u001b[49m\n\u001b[1;32m   2729\u001b[0m \u001b[43m    \u001b[49m\u001b[43m)\u001b[49m\n\u001b[1;32m   2731\u001b[0m \u001b[38;5;28;01mraise\u001b[39;00m \u001b[38;5;167;01mValueError\u001b[39;00m(\n\u001b[1;32m   2732\u001b[0m     \u001b[38;5;124m\"\u001b[39m\u001b[38;5;124mmethod must be either \u001b[39m\u001b[38;5;124m'\u001b[39m\u001b[38;5;124mpearson\u001b[39m\u001b[38;5;124m'\u001b[39m\u001b[38;5;124m, \u001b[39m\u001b[38;5;124m\"\u001b[39m\n\u001b[1;32m   2733\u001b[0m     \u001b[38;5;124m\"\u001b[39m\u001b[38;5;124m'\u001b[39m\u001b[38;5;124mspearman\u001b[39m\u001b[38;5;124m'\u001b[39m\u001b[38;5;124m, \u001b[39m\u001b[38;5;124m'\u001b[39m\u001b[38;5;124mkendall\u001b[39m\u001b[38;5;124m'\u001b[39m\u001b[38;5;124m, or a callable, \u001b[39m\u001b[38;5;124m\"\u001b[39m\n\u001b[1;32m   2734\u001b[0m     \u001b[38;5;124mf\u001b[39m\u001b[38;5;124m\"\u001b[39m\u001b[38;5;124m'\u001b[39m\u001b[38;5;132;01m{\u001b[39;00mmethod\u001b[38;5;132;01m}\u001b[39;00m\u001b[38;5;124m'\u001b[39m\u001b[38;5;124m was supplied\u001b[39m\u001b[38;5;124m\"\u001b[39m\n\u001b[1;32m   2735\u001b[0m )\n",
      "File \u001b[0;32m~/Documents/Information-Visualisation/venv/lib/python3.10/site-packages/pandas/core/nanops.py:96\u001b[0m, in \u001b[0;36mdisallow.__call__.<locals>._f\u001b[0;34m(*args, **kwargs)\u001b[0m\n\u001b[1;32m     94\u001b[0m \u001b[38;5;28;01mtry\u001b[39;00m:\n\u001b[1;32m     95\u001b[0m     \u001b[38;5;28;01mwith\u001b[39;00m np\u001b[38;5;241m.\u001b[39merrstate(invalid\u001b[38;5;241m=\u001b[39m\u001b[38;5;124m\"\u001b[39m\u001b[38;5;124mignore\u001b[39m\u001b[38;5;124m\"\u001b[39m):\n\u001b[0;32m---> 96\u001b[0m         \u001b[38;5;28;01mreturn\u001b[39;00m \u001b[43mf\u001b[49m\u001b[43m(\u001b[49m\u001b[38;5;241;43m*\u001b[39;49m\u001b[43margs\u001b[49m\u001b[43m,\u001b[49m\u001b[43m \u001b[49m\u001b[38;5;241;43m*\u001b[39;49m\u001b[38;5;241;43m*\u001b[39;49m\u001b[43mkwargs\u001b[49m\u001b[43m)\u001b[49m\n\u001b[1;32m     97\u001b[0m \u001b[38;5;28;01mexcept\u001b[39;00m \u001b[38;5;167;01mValueError\u001b[39;00m \u001b[38;5;28;01mas\u001b[39;00m e:\n\u001b[1;32m     98\u001b[0m     \u001b[38;5;66;03m# we want to transform an object array\u001b[39;00m\n\u001b[1;32m     99\u001b[0m     \u001b[38;5;66;03m# ValueError message to the more typical TypeError\u001b[39;00m\n\u001b[1;32m    100\u001b[0m     \u001b[38;5;66;03m# e.g. this is normally a disallowed function on\u001b[39;00m\n\u001b[1;32m    101\u001b[0m     \u001b[38;5;66;03m# object arrays that contain strings\u001b[39;00m\n\u001b[1;32m    102\u001b[0m     \u001b[38;5;28;01mif\u001b[39;00m is_object_dtype(args[\u001b[38;5;241m0\u001b[39m]):\n",
      "File \u001b[0;32m~/Documents/Information-Visualisation/venv/lib/python3.10/site-packages/pandas/core/nanops.py:1614\u001b[0m, in \u001b[0;36mnancorr\u001b[0;34m(a, b, method, min_periods)\u001b[0m\n\u001b[1;32m   1611\u001b[0m     \u001b[38;5;28;01mreturn\u001b[39;00m np\u001b[38;5;241m.\u001b[39mnan\n\u001b[1;32m   1613\u001b[0m f \u001b[38;5;241m=\u001b[39m get_corr_func(method)\n\u001b[0;32m-> 1614\u001b[0m \u001b[38;5;28;01mreturn\u001b[39;00m \u001b[43mf\u001b[49m\u001b[43m(\u001b[49m\u001b[43ma\u001b[49m\u001b[43m,\u001b[49m\u001b[43m \u001b[49m\u001b[43mb\u001b[49m\u001b[43m)\u001b[49m\n",
      "File \u001b[0;32m~/Documents/Information-Visualisation/venv/lib/python3.10/site-packages/pandas/core/nanops.py:1637\u001b[0m, in \u001b[0;36mget_corr_func.<locals>.func\u001b[0;34m(a, b)\u001b[0m\n\u001b[1;32m   1636\u001b[0m \u001b[38;5;28;01mdef\u001b[39;00m \u001b[38;5;21mfunc\u001b[39m(a, b):\n\u001b[0;32m-> 1637\u001b[0m     \u001b[38;5;28;01mreturn\u001b[39;00m \u001b[43mnp\u001b[49m\u001b[38;5;241;43m.\u001b[39;49m\u001b[43mcorrcoef\u001b[49m\u001b[43m(\u001b[49m\u001b[43ma\u001b[49m\u001b[43m,\u001b[49m\u001b[43m \u001b[49m\u001b[43mb\u001b[49m\u001b[43m)\u001b[49m[\u001b[38;5;241m0\u001b[39m, \u001b[38;5;241m1\u001b[39m]\n",
      "File \u001b[0;32m<__array_function__ internals>:200\u001b[0m, in \u001b[0;36mcorrcoef\u001b[0;34m(*args, **kwargs)\u001b[0m\n",
      "File \u001b[0;32m~/Documents/Information-Visualisation/venv/lib/python3.10/site-packages/numpy/lib/function_base.py:2846\u001b[0m, in \u001b[0;36mcorrcoef\u001b[0;34m(x, y, rowvar, bias, ddof, dtype)\u001b[0m\n\u001b[1;32m   2842\u001b[0m \u001b[38;5;28;01mif\u001b[39;00m bias \u001b[38;5;129;01mis\u001b[39;00m \u001b[38;5;129;01mnot\u001b[39;00m np\u001b[38;5;241m.\u001b[39m_NoValue \u001b[38;5;129;01mor\u001b[39;00m ddof \u001b[38;5;129;01mis\u001b[39;00m \u001b[38;5;129;01mnot\u001b[39;00m np\u001b[38;5;241m.\u001b[39m_NoValue:\n\u001b[1;32m   2843\u001b[0m     \u001b[38;5;66;03m# 2015-03-15, 1.10\u001b[39;00m\n\u001b[1;32m   2844\u001b[0m     warnings\u001b[38;5;241m.\u001b[39mwarn(\u001b[38;5;124m'\u001b[39m\u001b[38;5;124mbias and ddof have no effect and are deprecated\u001b[39m\u001b[38;5;124m'\u001b[39m,\n\u001b[1;32m   2845\u001b[0m                   \u001b[38;5;167;01mDeprecationWarning\u001b[39;00m, stacklevel\u001b[38;5;241m=\u001b[39m\u001b[38;5;241m3\u001b[39m)\n\u001b[0;32m-> 2846\u001b[0m c \u001b[38;5;241m=\u001b[39m \u001b[43mcov\u001b[49m\u001b[43m(\u001b[49m\u001b[43mx\u001b[49m\u001b[43m,\u001b[49m\u001b[43m \u001b[49m\u001b[43my\u001b[49m\u001b[43m,\u001b[49m\u001b[43m \u001b[49m\u001b[43mrowvar\u001b[49m\u001b[43m,\u001b[49m\u001b[43m \u001b[49m\u001b[43mdtype\u001b[49m\u001b[38;5;241;43m=\u001b[39;49m\u001b[43mdtype\u001b[49m\u001b[43m)\u001b[49m\n\u001b[1;32m   2847\u001b[0m \u001b[38;5;28;01mtry\u001b[39;00m:\n\u001b[1;32m   2848\u001b[0m     d \u001b[38;5;241m=\u001b[39m diag(c)\n",
      "File \u001b[0;32m<__array_function__ internals>:200\u001b[0m, in \u001b[0;36mcov\u001b[0;34m(*args, **kwargs)\u001b[0m\n",
      "File \u001b[0;32m~/Documents/Information-Visualisation/venv/lib/python3.10/site-packages/numpy/lib/function_base.py:2681\u001b[0m, in \u001b[0;36mcov\u001b[0;34m(m, y, rowvar, bias, ddof, fweights, aweights, dtype)\u001b[0m\n\u001b[1;32m   2678\u001b[0m     \u001b[38;5;28;01melse\u001b[39;00m:\n\u001b[1;32m   2679\u001b[0m         w \u001b[38;5;241m*\u001b[39m\u001b[38;5;241m=\u001b[39m aweights\n\u001b[0;32m-> 2681\u001b[0m avg, w_sum \u001b[38;5;241m=\u001b[39m \u001b[43maverage\u001b[49m\u001b[43m(\u001b[49m\u001b[43mX\u001b[49m\u001b[43m,\u001b[49m\u001b[43m \u001b[49m\u001b[43maxis\u001b[49m\u001b[38;5;241;43m=\u001b[39;49m\u001b[38;5;241;43m1\u001b[39;49m\u001b[43m,\u001b[49m\u001b[43m \u001b[49m\u001b[43mweights\u001b[49m\u001b[38;5;241;43m=\u001b[39;49m\u001b[43mw\u001b[49m\u001b[43m,\u001b[49m\u001b[43m \u001b[49m\u001b[43mreturned\u001b[49m\u001b[38;5;241;43m=\u001b[39;49m\u001b[38;5;28;43;01mTrue\u001b[39;49;00m\u001b[43m)\u001b[49m\n\u001b[1;32m   2682\u001b[0m w_sum \u001b[38;5;241m=\u001b[39m w_sum[\u001b[38;5;241m0\u001b[39m]\n\u001b[1;32m   2684\u001b[0m \u001b[38;5;66;03m# Determine the normalization\u001b[39;00m\n",
      "File \u001b[0;32m<__array_function__ internals>:200\u001b[0m, in \u001b[0;36maverage\u001b[0;34m(*args, **kwargs)\u001b[0m\n",
      "File \u001b[0;32m~/Documents/Information-Visualisation/venv/lib/python3.10/site-packages/numpy/lib/function_base.py:518\u001b[0m, in \u001b[0;36maverage\u001b[0;34m(a, axis, weights, returned, keepdims)\u001b[0m\n\u001b[1;32m    515\u001b[0m     keepdims_kw \u001b[38;5;241m=\u001b[39m {\u001b[38;5;124m'\u001b[39m\u001b[38;5;124mkeepdims\u001b[39m\u001b[38;5;124m'\u001b[39m: keepdims}\n\u001b[1;32m    517\u001b[0m \u001b[38;5;28;01mif\u001b[39;00m weights \u001b[38;5;129;01mis\u001b[39;00m \u001b[38;5;28;01mNone\u001b[39;00m:\n\u001b[0;32m--> 518\u001b[0m     avg \u001b[38;5;241m=\u001b[39m \u001b[43ma\u001b[49m\u001b[38;5;241;43m.\u001b[39;49m\u001b[43mmean\u001b[49m\u001b[43m(\u001b[49m\u001b[43maxis\u001b[49m\u001b[43m,\u001b[49m\u001b[43m \u001b[49m\u001b[38;5;241;43m*\u001b[39;49m\u001b[38;5;241;43m*\u001b[39;49m\u001b[43mkeepdims_kw\u001b[49m\u001b[43m)\u001b[49m\n\u001b[1;32m    519\u001b[0m     avg_as_array \u001b[38;5;241m=\u001b[39m np\u001b[38;5;241m.\u001b[39masanyarray(avg)\n\u001b[1;32m    520\u001b[0m     scl \u001b[38;5;241m=\u001b[39m avg_as_array\u001b[38;5;241m.\u001b[39mdtype\u001b[38;5;241m.\u001b[39mtype(a\u001b[38;5;241m.\u001b[39msize\u001b[38;5;241m/\u001b[39mavg_as_array\u001b[38;5;241m.\u001b[39msize)\n",
      "File \u001b[0;32m~/Documents/Information-Visualisation/venv/lib/python3.10/site-packages/numpy/core/_methods.py:184\u001b[0m, in \u001b[0;36m_mean\u001b[0;34m(a, axis, dtype, out, keepdims, where)\u001b[0m\n\u001b[1;32m    182\u001b[0m \u001b[38;5;28;01mif\u001b[39;00m \u001b[38;5;28misinstance\u001b[39m(ret, mu\u001b[38;5;241m.\u001b[39mndarray):\n\u001b[1;32m    183\u001b[0m     \u001b[38;5;28;01mwith\u001b[39;00m _no_nep50_warning():\n\u001b[0;32m--> 184\u001b[0m         ret \u001b[38;5;241m=\u001b[39m \u001b[43mum\u001b[49m\u001b[38;5;241;43m.\u001b[39;49m\u001b[43mtrue_divide\u001b[49m\u001b[43m(\u001b[49m\n\u001b[1;32m    185\u001b[0m \u001b[43m                \u001b[49m\u001b[43mret\u001b[49m\u001b[43m,\u001b[49m\u001b[43m \u001b[49m\u001b[43mrcount\u001b[49m\u001b[43m,\u001b[49m\u001b[43m \u001b[49m\u001b[43mout\u001b[49m\u001b[38;5;241;43m=\u001b[39;49m\u001b[43mret\u001b[49m\u001b[43m,\u001b[49m\u001b[43m \u001b[49m\u001b[43mcasting\u001b[49m\u001b[38;5;241;43m=\u001b[39;49m\u001b[38;5;124;43m'\u001b[39;49m\u001b[38;5;124;43munsafe\u001b[39;49m\u001b[38;5;124;43m'\u001b[39;49m\u001b[43m,\u001b[49m\u001b[43m \u001b[49m\u001b[43msubok\u001b[49m\u001b[38;5;241;43m=\u001b[39;49m\u001b[38;5;28;43;01mFalse\u001b[39;49;00m\u001b[43m)\u001b[49m\n\u001b[1;32m    186\u001b[0m     \u001b[38;5;28;01mif\u001b[39;00m is_float16_result \u001b[38;5;129;01mand\u001b[39;00m out \u001b[38;5;129;01mis\u001b[39;00m \u001b[38;5;28;01mNone\u001b[39;00m:\n\u001b[1;32m    187\u001b[0m         ret \u001b[38;5;241m=\u001b[39m arr\u001b[38;5;241m.\u001b[39mdtype\u001b[38;5;241m.\u001b[39mtype(ret)\n",
      "\u001b[0;31mTypeError\u001b[0m: unsupported operand type(s) for /: 'str' and 'int'"
     ]
    }
   ],
   "source": [
    "green_list = list(df_green.columns.values)\n",
    "\n",
    "mei_list = list(df_mei.columns.values)\n",
    "print(mei_list)\n",
    "\n",
    "corr_list = []\n",
    "\n",
    "for item in green_list[3:]:\n",
    "    corr = df_combined2['Production in total manufacturing sa, Index'].corr(df_combined2[item])\n",
    "    if corr >= 0.4 or corr <= -0.4:\n",
    "        corr_list.append([corr, item])\n",
    "\n",
    "print(corr_list)"
   ]
  },
  {
   "cell_type": "code",
   "execution_count": 47,
   "metadata": {
    "ExecuteTime": {
     "end_time": "2023-06-20T11:30:02.834971262Z",
     "start_time": "2023-06-20T11:30:02.791015879Z"
    },
    "collapsed": false
   },
   "outputs": [
    {
     "name": "stdout",
     "output_type": "stream",
     "text": [
      "nan\n"
     ]
    }
   ],
   "source": [
    "df_infra = pd.read_csv('pivoted_data_ITF_INFRA.csv')\n",
    "\n",
    "infra_list = list(df_infra.columns.values)\n",
    "print(infra_list)\n",
    "\n",
    "first_column_infra = df_infra.pop('COUNTRY')\n",
    "df_infra.insert(0, 'ISO3', first_column_infra)\n",
    "\n",
    "# df_infra.to_csv('iso_infra.csv')\n",
    "\n",
    "df_combined3 = df_green.merge(df_infra, on='ISO3')\n",
    "\n",
    "corr_list = []\n",
    "\n",
    "for item in green_list[3:]:\n",
    "    corr = df_combined3['Inland waterways infrastructure investment per GDP'].corr(df_combined3[item])\n",
    "    if corr >= 0.5 or corr <= -0.5:\n",
    "        corr_list.append([corr, item])\n",
    "\n",
    "print(corr_list)"
   ]
  },
  {
   "cell_type": "code",
   "execution_count": 41,
   "metadata": {
    "ExecuteTime": {
     "end_time": "2023-06-20T11:25:09.904726271Z",
     "start_time": "2023-06-20T11:25:08.097973035Z"
    },
    "collapsed": false
   },
   "outputs": [
    {
     "name": "stdout",
     "output_type": "stream",
     "text": [
      "[['Production of electricity, gas, steam and air conditioning supply sa, index', 'Intact forest landscape loss, % since 2000', -0.5331751414579912], ['Production of total energy sa, Index', 'Labour tax revenue, % GDP', 0.5179395350146646], ['Production of total energy sa, Index', 'Life expectancy at birth', 0.5150610798480496], ['Production of total energy sa, Index', 'Population with access to improved drinking water sources, % total population ', 0.5169046009160407], ['Production of total energy sa, Index', 'Population, ages 0-14, % total', -0.5379860505755455], ['Production of total energy sa, Index', 'Population, ages 65 and above, % total', 0.5389089533818028], ['Production of total energy sa, Index', 'Total fertility rate, children per woman', -0.5278387882507101], ['Work started for dwellings sa, Index', 'Conversion of not-water to permanent water surface, % permanent water, since 1984', 0.5868149689865616], ['Work started for dwellings sa, Index', 'Conversion of seasonal to permanent water surface, % permanent water, since 1984', 0.5929428993311798]]\n"
     ]
    }
   ],
   "source": [
    "df_water = pd.read_csv('water_set_done.csv')\n",
    "\n",
    "water_list = list(df_water.columns.values)\n",
    "\n",
    "first_column_water = df_water.pop('ISO3')\n",
    "df_water.insert(0, 'ISO3', first_column_water)\n",
    "\n",
    "df_combined4 = df_green.merge(df_water, on='ISO3')\n",
    "\n",
    "print(water_list)\n",
    "\n",
    "corr_list = []\n",
    "\n",
    "for item in green_list[3:]:\n",
    "    corr = df_combined4['RURAL-Proportion-Non-piped'].corr(df_combined4[item])\n",
    "    if corr >= 0.5 or corr <= -0.5:\n",
    "        corr_list.append([corr, item])"
   ]
  }
 ],
 "metadata": {
  "kernelspec": {
   "display_name": "Python 3",
   "language": "python",
   "name": "python3"
  },
  "language_info": {
   "codemirror_mode": {
    "name": "ipython",
    "version": 3
   },
   "file_extension": ".py",
   "mimetype": "text/x-python",
   "name": "python",
   "nbconvert_exporter": "python",
   "pygments_lexer": "ipython3",
   "version": "3.10.10"
  }
 },
 "nbformat": 4,
 "nbformat_minor": 0
}