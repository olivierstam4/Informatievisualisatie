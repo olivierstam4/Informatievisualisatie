{
 "cells": [
  {
   "cell_type": "code",
   "execution_count": 1,
   "id": "85c67a9d",
   "metadata": {},
   "outputs": [
    {
     "ename": "ModuleNotFoundError",
     "evalue": "No module named 'wbdata'",
     "output_type": "error",
     "traceback": [
      "\u001b[0;31m---------------------------------------------------------------------------\u001b[0m",
      "\u001b[0;31mModuleNotFoundError\u001b[0m                       Traceback (most recent call last)",
      "Cell \u001b[0;32mIn[1], line 3\u001b[0m\n\u001b[1;32m      1\u001b[0m \u001b[38;5;28;01mimport\u001b[39;00m \u001b[38;5;21;01mpandas\u001b[39;00m \u001b[38;5;28;01mas\u001b[39;00m \u001b[38;5;21;01mpd\u001b[39;00m\n\u001b[1;32m      2\u001b[0m \u001b[38;5;28;01mimport\u001b[39;00m \u001b[38;5;21;01mplotly\u001b[39;00m\u001b[38;5;21;01m.\u001b[39;00m\u001b[38;5;21;01mgraph_objects\u001b[39;00m \u001b[38;5;28;01mas\u001b[39;00m \u001b[38;5;21;01mgo\u001b[39;00m\n\u001b[0;32m----> 3\u001b[0m \u001b[38;5;28;01mimport\u001b[39;00m \u001b[38;5;21;01mwbdata\u001b[39;00m\n\u001b[1;32m      5\u001b[0m df1 \u001b[38;5;241m=\u001b[39m pd\u001b[38;5;241m.\u001b[39mread_csv(\u001b[38;5;124m'\u001b[39m\u001b[38;5;124mnew_water_done5.csv\u001b[39m\u001b[38;5;124m'\u001b[39m)\n\u001b[1;32m      7\u001b[0m df2 \u001b[38;5;241m=\u001b[39m pd\u001b[38;5;241m.\u001b[39mread_csv(\u001b[38;5;124m'\u001b[39m\u001b[38;5;124miso_mei.csv\u001b[39m\u001b[38;5;124m'\u001b[39m)\n",
      "\u001b[0;31mModuleNotFoundError\u001b[0m: No module named 'wbdata'"
     ]
    }
   ],
   "source": [
    "import pandas as pd\n",
    "import plotly.graph_objects as go\n",
    "import wbdata\n",
    "\n",
    "df1 = pd.read_csv('new_water_done5.csv')\n",
    "\n",
    "df2 = pd.read_csv('iso_mei.csv')\n",
    "industry_data = df2.rename(columns={'Time': 'Year'})\n",
    "\n",
    "countries_gdp = wbdata.get_dataframe(indicators={'NY.GDP.MKTP.CD': 'GDP'}, convert_date=False)\n",
    "\n",
    "countries_industry = industry_data['Country'].unique()\n",
    "\n",
    "common_countries = list(set(countries_gdp.index.get_level_values('country').unique()) & set(countries_industry))\n",
    "\n",
    "gdp_data = countries_gdp.loc[common_countries]\n",
    "industry_data = industry_data[industry_data['Country'].isin(common_countries)]\n",
    "\n",
    "gdp_data = gdp_data.pivot_table(index='date', columns='country', values='GDP')\n",
    "\n",
    "num_bins = 3\n",
    "bin_labels = ['Low GDP', 'Medium GDP', 'High GDP']\n",
    "\n",
    "gdp_bins = pd.qcut(gdp_data.loc['2000'], num_bins, labels=bin_labels)\n",
    "\n",
    "gdp_bin_countries = [list(gdp_bins[gdp_bins == label].index) for label in bin_labels]\n",
    "\n",
    "avg_industry_data = industry_data.groupby(['Year', 'Country'])['Production of total industry sa, Index'].mean().unstack()\n",
    "\n",
    "avg_industry_values = []\n",
    "for bin_countries in gdp_bin_countries:\n",
    "    avg_industry_bin = avg_industry_data[bin_countries].mean(axis=1)\n",
    "    avg_industry_values.append(avg_industry_bin)\n",
    "\n",
    "figgdp = go.Figure()\n",
    "\n",
    "for bin_label, avg_values in zip(bin_labels, avg_industry_values):\n",
    "    figgdp.add_trace(go.Scatter(x=avg_values.index, y=avg_values, name=bin_label))\n",
    "\n",
    "figgdp.update_layout(\n",
    "    xaxis_title='Year',\n",
    "    yaxis_title='Average Production of total industry sa, Index',\n",
    "    title='Average Industry Production by GDP Bin',\n",
    "    legend_title='GDP Bin'\n",
    ")\n",
    "\n",
    "%store figgdp\n",
    "\n",
    "figgdp.show()\n",
    "\n",
    "\n",
    "\n",
    "\n",
    "\n",
    "\n",
    "\n",
    "\n",
    "\n",
    "\n",
    "\n"
   ]
  },
  {
   "cell_type": "markdown",
   "id": "b7e16126",
   "metadata": {},
   "source": []
  },
  {
   "cell_type": "code",
   "execution_count": null,
   "id": "6d85dd61",
   "metadata": {},
   "outputs": [],
   "source": []
  }
 ],
 "metadata": {
  "kernelspec": {
   "display_name": "Python 3 (ipykernel)",
   "language": "python",
   "name": "python3"
  },
  "language_info": {
   "codemirror_mode": {
    "name": "ipython",
    "version": 3
   },
   "file_extension": ".py",
   "mimetype": "text/x-python",
   "name": "python",
   "nbconvert_exporter": "python",
   "pygments_lexer": "ipython3",
   "version": "3.10.10"
  }
 },
 "nbformat": 4,
 "nbformat_minor": 5
}